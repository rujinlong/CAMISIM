{
 "cells": [
  {
   "cell_type": "code",
   "execution_count": 1,
   "metadata": {},
   "outputs": [],
   "source": [
    "import pandas as pd\n"
   ]
  },
  {
   "cell_type": "code",
   "execution_count": 3,
   "metadata": {},
   "outputs": [],
   "source": [
    "df_file = pd.read_csv('genome_to_id_virnest_ful.tsv', sep='\\t', header=None, names=['genome_ID', 'fpath'])\n",
    "df_meta = pd.read_csv(\"metadata_virnest_full.tsv\", sep='\\t')"
   ]
  },
  {
   "cell_type": "code",
   "execution_count": 40,
   "metadata": {},
   "outputs": [],
   "source": [
    "# inner join df_file and df_meta on genome_ID\n",
    "df_file2 = pd.merge(df_file, df_meta[[\"genome_ID\"]], on='genome_ID', how='inner')\n",
    "df_meta2 = pd.merge(df_meta, df_file[[\"genome_ID\"]], on='genome_ID', how='inner')"
   ]
  },
  {
   "cell_type": "code",
   "execution_count": 43,
   "metadata": {},
   "outputs": [],
   "source": [
    "df_file2.to_csv('genome_to_id_virnest.tsv', sep='\\t', header=None, index=False)\n",
    "df_meta2.to_csv('metadata_virnest.tsv', sep='\\t', index=False)"
   ]
  },
  {
   "cell_type": "code",
   "execution_count": null,
   "metadata": {},
   "outputs": [],
   "source": [
    "# read biom format file\n",
    "from biom import load_table\n",
    "import pandas as pd\n",
    "\n",
    "# Load the BIOM table\n",
    "table = load_table('../../../defaults/mini.biom')\n",
    "\n",
    "# Convert the BIOM table to a pandas DataFrame\n",
    "df = table.to_dataframe()\n"
   ]
  }
 ],
 "metadata": {
  "kernelspec": {
   "display_name": "py3",
   "language": "python",
   "name": "python3"
  },
  "language_info": {
   "codemirror_mode": {
    "name": "ipython",
    "version": 3
   },
   "file_extension": ".py",
   "mimetype": "text/x-python",
   "name": "python",
   "nbconvert_exporter": "python",
   "pygments_lexer": "ipython3",
   "version": "3.9.9"
  }
 },
 "nbformat": 4,
 "nbformat_minor": 2
}
